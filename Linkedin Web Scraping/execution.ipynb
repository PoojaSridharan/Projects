{
 "cells": [
  {
   "cell_type": "code",
   "execution_count": 8,
   "metadata": {},
   "outputs": [],
   "source": [
    "from main import *\n",
    "from impfunctions import *\n"
   ]
  },
  {
   "cell_type": "code",
   "execution_count": 9,
   "metadata": {},
   "outputs": [],
   "source": [
    "import itertools\n",
    "import os"
   ]
  },
  {
   "cell_type": "code",
   "execution_count": 10,
   "metadata": {},
   "outputs": [],
   "source": [
    "# Define the lists of countries and job titles\n",
    "countries = [\n",
    "    \"United States\",\n",
    "    # \"India\",\n",
    "    # \"United Kingdom\",\n",
    "    # \"Germany\",\n",
    "    # \"Canada\",\n",
    "    # \"Australia\",\n",
    "    # \"Singapore\",\n",
    "    # \"Netherlands\",\n",
    "    # \"France\",\n",
    "    # \"China\"\n",
    "]\n",
    "\n",
    "job_titles = [\n",
    "    \"data analyst\",\n",
    "    # \"data scientist\",\n",
    "    # \"business analyst\"\n",
    "]\n",
    "\n",
    "# Create a list of tuples for each combination of country and job title\n",
    "country_job_combinations = list(itertools.product(countries, job_titles))\n",
    "\n",
    "\n"
   ]
  },
  {
   "cell_type": "code",
   "execution_count": 11,
   "metadata": {},
   "outputs": [],
   "source": [
    "# Creating chrome driver with necessary options\n",
    "chrome_option = Options()\n",
    "service = Service(executable_path=r\"C:\\Users\\sridh\\OneDrive\\Desktop\\Projects\\chromedriver-win64\\chromedriver.exe\")\n",
    "chrome_option.add_experimental_option(\"excludeSwitches\",[\"enable-automation\"])\n",
    "chrome_option.add_experimental_option('useAutomationExtension', False)\n",
    "chrome_option.add_argument('--disable-blink-features=AutomationControlled')\n",
    "chrome_option.add_argument('--incognito')\n",
    "chrome_option.add_argument('--disable-web-security')\n",
    "# wd1 = webdriver.Chrome(service=service , options = chrome_option )\n",
    "# wd1.maximize_window()"
   ]
  },
  {
   "cell_type": "code",
   "execution_count": 12,
   "metadata": {},
   "outputs": [
    {
     "name": "stdout",
     "output_type": "stream",
     "text": [
      "True\n",
      "False\n",
      "False\n",
      "False\n",
      "False\n"
     ]
    },
    {
     "name": "stderr",
     "output_type": "stream",
     "text": [
      "c:\\Users\\sridh\\OneDrive\\Desktop\\Projects\\Projects\\Linkedin Web Scraping\\main.py:11: GuessedAtParserWarning: No parser was explicitly specified, so I'm using the best available HTML parser for this system (\"html.parser\"). This usually isn't a problem, but if you run this code on another system, or in a different virtual environment, it may use a different parser and behave differently.\n",
      "\n",
      "The code that caused this warning is on line 11 of the file c:\\Users\\sridh\\OneDrive\\Desktop\\Projects\\Projects\\Linkedin Web Scraping\\main.py. To get rid of this warning, pass the additional argument 'features=\"html.parser\"' to the BeautifulSoup constructor.\n",
      "\n",
      "  soup = BeautifulSoup(page_source)\n",
      "c:\\Users\\sridh\\OneDrive\\Desktop\\Projects\\Projects\\Linkedin Web Scraping\\main.py:27: GuessedAtParserWarning: No parser was explicitly specified, so I'm using the best available HTML parser for this system (\"html.parser\"). This usually isn't a problem, but if you run this code on another system, or in a different virtual environment, it may use a different parser and behave differently.\n",
      "\n",
      "The code that caused this warning is on line 27 of the file c:\\Users\\sridh\\OneDrive\\Desktop\\Projects\\Projects\\Linkedin Web Scraping\\main.py. To get rid of this warning, pass the additional argument 'features=\"html.parser\"' to the BeautifulSoup constructor.\n",
      "\n",
      "  soup1=BeautifulSoup(url1.content)\n"
     ]
    }
   ],
   "source": [
    "for i,j in country_job_combinations:\n",
    "    wd1 = webdriver.Chrome(service=service , options = chrome_option )\n",
    "    wd1.maximize_window()\n",
    "    file_path = 'data.csv'\n",
    "    df1=main(wd1,j,i)\n",
    "\n",
    "    if not os.path.exists(file_path):\n",
    "        # Create CSV if it doesn't exist\n",
    "        df1.to_csv(file_path, index=False)\n",
    "    else:\n",
    "        # Append to CSV if it exists\n",
    "        df1.to_csv(file_path, mode='a', header=False, index=False)\n",
    "    wd1.quit()\n"
   ]
  },
  {
   "cell_type": "code",
   "execution_count": null,
   "metadata": {},
   "outputs": [],
   "source": []
  }
 ],
 "metadata": {
  "kernelspec": {
   "display_name": "virtual",
   "language": "python",
   "name": "python3"
  },
  "language_info": {
   "codemirror_mode": {
    "name": "ipython",
    "version": 3
   },
   "file_extension": ".py",
   "mimetype": "text/x-python",
   "name": "python",
   "nbconvert_exporter": "python",
   "pygments_lexer": "ipython3",
   "version": "3.12.5"
  }
 },
 "nbformat": 4,
 "nbformat_minor": 2
}
