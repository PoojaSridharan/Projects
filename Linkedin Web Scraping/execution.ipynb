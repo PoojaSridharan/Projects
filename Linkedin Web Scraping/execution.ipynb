{
 "cells": [
  {
   "cell_type": "code",
   "execution_count": null,
   "metadata": {},
   "outputs": [],
   "source": [
    "from main import *\n",
    "from impfunctions import *\n"
   ]
  },
  {
   "cell_type": "code",
   "execution_count": null,
   "metadata": {},
   "outputs": [],
   "source": [
    "import itertools\n",
    "import os"
   ]
  },
  {
   "cell_type": "code",
   "execution_count": null,
   "metadata": {},
   "outputs": [],
   "source": [
    "# Define the lists of countries and job titles\n",
    "countries = [\n",
    "    \"United States\",\n",
    "    \"India\",\n",
    "    \"United Kingdom\",\n",
    "    \"Germany\",\n",
    "    \"Canada\",\n",
    "    \"Australia\",\n",
    "    \"Singapore\",\n",
    "    \"Netherlands\",\n",
    "    \"France\",\n",
    "    \"China\"\n",
    "]\n",
    "\n",
    "job_titles = [\n",
    "    \"data analyst\",\n",
    "    \"data scientist\",\n",
    "    \"business analyst\"\n",
    "]\n",
    "\n",
    "# Create a list of tuples for each combination of country and job title\n",
    "country_job_combinations = list(itertools.product(countries, job_titles))\n",
    "\n",
    "\n"
   ]
  },
  {
   "cell_type": "code",
   "execution_count": null,
   "metadata": {},
   "outputs": [],
   "source": [
    "# Creating chrome driver with necessary options\n",
    "chrome_option = Options()\n",
    "service = Service(executable_path='driver\\\\chromedriver-win64\\\\chromedriver.exe')\n",
    "chrome_option.add_experimental_option(\"excludeSwitches\",[\"enable-automation\"])\n",
    "chrome_option.add_experimental_option('useAutomationExtension', False)\n",
    "chrome_option.add_argument('--disable-blink-features=AutomationControlled')\n",
    "chrome_option.add_argument('--incognito')\n",
    "chrome_option.add_argument('--disable-web-security')\n",
    "wd1 = webdriver.Chrome(service=service , options = chrome_option )\n",
    "wd1.maximize_window()"
   ]
  },
  {
   "cell_type": "code",
   "execution_count": null,
   "metadata": {},
   "outputs": [],
   "source": [
    "for i,j in country_job_combinations:\n",
    "    file_path = 'overall.csv'\n",
    "    df1=main(wd1,j,i)\n",
    "\n",
    "    if not os.path.exists(file_path):\n",
    "        # Create CSV if it doesn't exist\n",
    "        df1.to_csv(file_path, index=False)\n",
    "    else:\n",
    "        # Append to CSV if it exists\n",
    "        df1.to_csv(file_path, mode='a', header=False, index=False)\n",
    "wd1.quit()\n"
   ]
  }
 ],
 "metadata": {
  "kernelspec": {
   "display_name": "virtual",
   "language": "python",
   "name": "python3"
  },
  "language_info": {
   "codemirror_mode": {
    "name": "ipython",
    "version": 3
   },
   "file_extension": ".py",
   "mimetype": "text/x-python",
   "name": "python",
   "nbconvert_exporter": "python",
   "pygments_lexer": "ipython3",
   "version": "3.11.4"
  }
 },
 "nbformat": 4,
 "nbformat_minor": 2
}
